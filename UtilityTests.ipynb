{
 "cells": [
  {
   "cell_type": "code",
   "execution_count": 1,
   "metadata": {},
   "outputs": [],
   "source": [
    "from simulator import *\n",
    "import createPlots as cp\n",
    "import numpy as np\n",
    "import random\n",
    "import math"
   ]
  },
  {
   "cell_type": "code",
   "execution_count": 2,
   "metadata": {},
   "outputs": [],
   "source": [
    "n, k = 4, 16\n",
    "hashFracs = [0.4, 0.1, 0.2, 0.3]\n",
    "avgOver = 1 \n",
    "p, pF = 1/200, 1/2\n",
    "r = 5*10**5\n",
    "filename = \"sim_results/utilityTests/\""
   ]
  },
  {
   "cell_type": "code",
   "execution_count": 3,
   "metadata": {},
   "outputs": [
    {
     "name": "stdout",
     "output_type": "stream",
     "text": [
      "Round:50000 has finished.\n",
      "Round:100000 has finished.\n",
      "Round:150000 has finished.\n",
      "Round:200000 has finished.\n",
      "Round:250000 has finished.\n",
      "Round:300000 has finished.\n",
      "Round:350000 has finished.\n",
      "987.5 1250.0\n",
      "Miner2 has left!\n",
      "Round:400000 has finished.\n",
      "Round:450000 has finished.\n",
      "Round:500000 has finished.\n",
      "Simulation for r=500000 rounds has finished!\n",
      "Simulation 1 has finished!\n",
      "All simulations have finished!\n",
      "Writing results to file: \n",
      "Finished!\n"
     ]
    }
   ],
   "source": [
    "sim = Simulator(n, r, p, pF, hashFracs, k, avgOver)\n",
    "sim.run()"
   ]
  },
  {
   "cell_type": "code",
   "execution_count": 4,
   "metadata": {},
   "outputs": [
    {
     "name": "stdout",
     "output_type": "stream",
     "text": [
      "[0.4, 0.1, 0.2, 0.3]\n",
      "[0.4, 0.1, 0.2, 0.3]\n",
      "[0.4, 0.1, 0.2, 0.3]\n",
      "[0.4, 0.1, 0.2, 0.3]\n",
      "[0.5, 0.125, 0.375]\n",
      "[0.5, 0.125, 0.375]\n"
     ]
    }
   ],
   "source": [
    "cp.plotHashFracsLog(filename, sim.environment.hashFracLog)"
   ]
  },
  {
   "cell_type": "code",
   "execution_count": 5,
   "metadata": {},
   "outputs": [
    {
     "data": {
      "text/plain": [
       "[[0.4, 0.1, 0.2, 0.3],\n",
       " [0.4, 0.1, 0.2, 0.3],\n",
       " [0.4, 0.1, 0.2, 0.3],\n",
       " [0.4, 0.1, 0.2, 0.3],\n",
       " [0.5, 0.125, 0.0, 0.375],\n",
       " [0.5, 0.125, 0.0, 0.375]]"
      ]
     },
     "execution_count": 5,
     "metadata": {},
     "output_type": "execute_result"
    }
   ],
   "source": [
    "sim.environment.hashFracLog"
   ]
  },
  {
   "cell_type": "code",
   "execution_count": null,
   "metadata": {},
   "outputs": [],
   "source": []
  }
 ],
 "metadata": {
  "kernelspec": {
   "display_name": "Python 3",
   "language": "python",
   "name": "python3"
  },
  "language_info": {
   "codemirror_mode": {
    "name": "ipython",
    "version": 3
   },
   "file_extension": ".py",
   "mimetype": "text/x-python",
   "name": "python",
   "nbconvert_exporter": "python",
   "pygments_lexer": "ipython3",
   "version": "3.5.2"
  }
 },
 "nbformat": 4,
 "nbformat_minor": 2
}
