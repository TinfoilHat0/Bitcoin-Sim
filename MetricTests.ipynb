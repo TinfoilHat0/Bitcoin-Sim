{
 "cells": [
  {
   "cell_type": "code",
   "execution_count": 1,
   "metadata": {},
   "outputs": [],
   "source": [
    "from simulator import *\n",
    "import createPlots as cp\n",
    "import numpy as np\n",
    "import random"
   ]
  },
  {
   "cell_type": "code",
   "execution_count": 2,
   "metadata": {},
   "outputs": [],
   "source": [
    "# We fix number of nodes and parameters of fruitchain(c1,c2,c3,k) under all settings. \n",
    "n, k = 14, 16\n",
    "avgOver = 5 # Average each point over 5 runs"
   ]
  },
  {
   "cell_type": "code",
   "execution_count": 3,
   "metadata": {
    "scrolled": true
   },
   "outputs": [],
   "source": [
    "# 1. Parameters for Metric vs. Window Length\n",
    "# Fix c0 = 10 (e.g p = 1/10, pF = 1)\n",
    "p, pF = 1/10, 1\n",
    "hashFracs = [1/n for i in range(n)]\n",
    "windowLengths = [1, 7, 14, 21, 30] #days"
   ]
  },
  {
   "cell_type": "code",
   "execution_count": null,
   "metadata": {},
   "outputs": [],
   "source": [
    "# 1. Metric vs. Window Length, cont.\n",
    "for length in windowLengths:\n",
    "    fileName = \"sim_results/fairnessTests/lengthTests/\" \n",
    "    r = ceil(1/p)*144*length # on avg. 144 blocks per day\n",
    "    sim = Simulator(n, r, p, pF, hashFracs, k, avgOver)\n",
    "    sim.run(fileName + \"length\" + str(length) + \"_\")"
   ]
  },
  {
   "cell_type": "code",
   "execution_count": 4,
   "metadata": {},
   "outputs": [],
   "source": [
    "#2. Parameters Metric vs. c_0\n",
    "# Fix window length to 30 days.\n",
    "windowLength = 30\n",
    "hashFracs = [1/n for i in range(n)]\n",
    "c0Vals = [1, 20, 40, 60, 80, 100] # pF/p"
   ]
  },
  {
   "cell_type": "code",
   "execution_count": null,
   "metadata": {},
   "outputs": [],
   "source": [
    "#2. Metric vs. c_0, cont.\n",
    "for c0 in c0Vals:\n",
    "    fileName = \"sim_results/fairnessTests/c0Tests/\" \n",
    "    p = 1/max(c0Vals) \n",
    "    pF = c0 * p\n",
    "    r = ceil(1/p)*144*windowLength # on avg. 144 blocks per day\n",
    "    sim = Simulator(n, r, p, pF, hashFracs, k, avgOver)\n",
    "    sim.run(fileName + \"c0\" + str(c0) + \"_\")"
   ]
  },
  {
   "cell_type": "code",
   "execution_count": 5,
   "metadata": {},
   "outputs": [],
   "source": [
    "#3. Metric vs. hash rate fraction settings\n",
    "# Fix window length to 30 days, c0 to 10. \n",
    "# Vary hash fractions settings:All same, real data, some random setting with big nodes\n",
    "setting1 = [1/n for i in range(n)] # All same\n",
    "setting2 = [0.267, 0.174, 0.118, 0.106, 0.075, 0.068, 0.062, 0.043, 0.025, 0.019, 0.019, 0.012, 0.006, 0.006] # Real distribution\n",
    "hashSettings = [setting1, setting2]\n",
    "windowLength = 30"
   ]
  },
  {
   "cell_type": "code",
   "execution_count": null,
   "metadata": {},
   "outputs": [],
   "source": [
    "# #3. Metric vs. hash rate fraction settings, cont.\n",
    "for i in range(len(hashSettings)):\n",
    "    fileName = \"sim_results/fairnessTests/hashFracTests/\" \n",
    "    p, pF = 1/10, 1\n",
    "    r = ceil(1/p)*144*windowLength # on avg. 144 blocks per day\n",
    "    sim = Simulator(n, r, p, pF, hashSettings[i], k, avgOver)\n",
    "    sim.run(fileName + \"hashSetting\" + str(i) + \"_\")"
   ]
  },
  {
   "cell_type": "code",
   "execution_count": 6,
   "metadata": {},
   "outputs": [
    {
     "name": "stdout",
     "output_type": "stream",
     "text": [
      "[14.500623481203998, 42.434084416280001]\n",
      "[1.469266014342, 2.3240815037860001]\n"
     ]
    }
   ],
   "source": [
    "cp.plotFairnessMetric(windowLengths, c0Vals, hashSettings)"
   ]
  }
 ],
 "metadata": {
  "kernelspec": {
   "display_name": "Python 3",
   "language": "python",
   "name": "python3"
  },
  "language_info": {
   "codemirror_mode": {
    "name": "ipython",
    "version": 3
   },
   "file_extension": ".py",
   "mimetype": "text/x-python",
   "name": "python",
   "nbconvert_exporter": "python",
   "pygments_lexer": "ipython3",
   "version": "3.4.3"
  }
 },
 "nbformat": 4,
 "nbformat_minor": 1
}
