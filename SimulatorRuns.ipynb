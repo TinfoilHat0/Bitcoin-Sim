{
 "cells": [
  {
   "cell_type": "code",
   "execution_count": 1,
   "metadata": {},
   "outputs": [],
   "source": [
    "from simulator import *\n",
    "import createPlots as cp\n",
    "import numpy as np"
   ]
  },
  {
   "cell_type": "code",
   "execution_count": 2,
   "metadata": {},
   "outputs": [],
   "source": [
    "# Setup the parameters\n",
    "p, pF = 1/100, 1/10\n",
    "n, t, r = 3, 0, ceil((1/p) * 100)\n",
    "txRate, k = 0, 16\n",
    "hashFracs = [1/n for i in range(n)]\n",
    "avgOver = 5 # average results over that many simulations\n",
    "file = \"sim_results/\""
   ]
  },
  {
   "cell_type": "code",
   "execution_count": 3,
   "metadata": {
    "scrolled": true
   },
   "outputs": [
    {
     "name": "stdout",
     "output_type": "stream",
     "text": [
      "Simulation for r=10000 rounds has finished!\n",
      "Simulation 1 has finished!\n",
      "Simulation for r=10000 rounds has finished!\n",
      "Simulation 2 has finished!\n",
      "Simulation for r=10000 rounds has finished!\n",
      "Simulation 3 has finished!\n",
      "Simulation for r=10000 rounds has finished!\n",
      "Simulation 4 has finished!\n",
      "Simulation for r=10000 rounds has finished!\n",
      "Simulation 5 has finished!\n",
      "Writing results to file: sim_results/\n",
      "Finished!\n"
     ]
    }
   ],
   "source": [
    "sim = Simulator(n, t, r, p, pF, hashFracs, txRate, k, avgOver)\n",
    "sim.run(file)"
   ]
  },
  {
   "cell_type": "code",
   "execution_count": 4,
   "metadata": {},
   "outputs": [],
   "source": [
    "cp.plotFruitPerBlock(file)"
   ]
  },
  {
   "cell_type": "code",
   "execution_count": null,
   "metadata": {},
   "outputs": [],
   "source": []
  }
 ],
 "metadata": {
  "kernelspec": {
   "display_name": "Python 3",
   "language": "python",
   "name": "python3"
  },
  "language_info": {
   "codemirror_mode": {
    "name": "ipython",
    "version": 3
   },
   "file_extension": ".py",
   "mimetype": "text/x-python",
   "name": "python",
   "nbconvert_exporter": "python",
   "pygments_lexer": "ipython3",
   "version": "3.5.2"
  }
 },
 "nbformat": 4,
 "nbformat_minor": 1
}
