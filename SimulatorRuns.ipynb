{
 "cells": [
  {
   "cell_type": "code",
   "execution_count": 1,
   "metadata": {},
   "outputs": [],
   "source": [
    "from simulator import *\n",
    "import createPlots as cp\n",
    "import numpy as np\n",
    "import random"
   ]
  },
  {
   "cell_type": "code",
   "execution_count": 2,
   "metadata": {},
   "outputs": [],
   "source": [
    "# Setup the parameters\n",
    "p, pF = 1/1000, 1/2\n",
    "n, r = 10, 10**5\n",
    "hashFracs = [1/n for i in range(n)]\n",
    "k = 16\n",
    "avgOver = 3\n",
    "file = \"sim_results/\""
   ]
  },
  {
   "cell_type": "code",
   "execution_count": 3,
   "metadata": {
    "scrolled": true
   },
   "outputs": [
    {
     "name": "stdout",
     "output_type": "stream",
     "text": [
      "Round:50000 has finished.\n",
      "Round:100000 has finished.\n",
      "Simulation for r=100000 rounds has finished!\n",
      "Simulation 1 has finished!\n",
      "Round:50000 has finished.\n",
      "Round:100000 has finished.\n",
      "Simulation for r=100000 rounds has finished!\n",
      "Simulation 2 has finished!\n",
      "Round:50000 has finished.\n",
      "Round:100000 has finished.\n",
      "Simulation for r=100000 rounds has finished!\n",
      "Simulation 3 has finished!\n",
      "All simulations have finished!\n",
      "Writing results to file: sim_results/\n",
      "Finished!\n"
     ]
    }
   ],
   "source": [
    "sim = Simulator(n, r, p, pF, hashFracs, k, avgOver)\n",
    "sim.run(file)"
   ]
  },
  {
   "cell_type": "code",
   "execution_count": 4,
   "metadata": {},
   "outputs": [],
   "source": [
    "cp.plotFairnessMetric(file)\n",
    "cp.plotStabilityMetric(file)"
   ]
  }
 ],
 "metadata": {
  "kernelspec": {
   "display_name": "Python 3",
   "language": "python",
   "name": "python3"
  },
  "language_info": {
   "codemirror_mode": {
    "name": "ipython",
    "version": 3
   },
   "file_extension": ".py",
   "mimetype": "text/x-python",
   "name": "python",
   "nbconvert_exporter": "python",
   "pygments_lexer": "ipython3",
   "version": "3.5.2"
  }
 },
 "nbformat": 4,
 "nbformat_minor": 1
}
