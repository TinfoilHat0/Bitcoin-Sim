{
 "cells": [
  {
   "cell_type": "code",
   "execution_count": 1,
   "metadata": {},
   "outputs": [],
   "source": [
    "import bisect\n",
    "import random\n",
    "from dataStructures import *\n",
    "from fruitchain import *\n",
    "import matplotlib.pyplot as plt\n",
    "import math\n",
    "import numpy as np"
   ]
  },
  {
   "cell_type": "code",
   "execution_count": 2,
   "metadata": {},
   "outputs": [],
   "source": [
    "hashFracsLog = [[0.25, 0.25, 0.25, 0.25],\n",
    " [0.25, 0.25, 0.25, 0.25],\n",
    " [0.25, 0.25, 0.25, 0.25],\n",
    " [0.25, 0.25, 0.25, 0.25],\n",
    " [0.25, 0.25, 0.25, 0.25],\n",
    " [0.25, 0.25, 0.25, 0.25],\n",
    " [0.25, 0.25, 0.25, 0.25],\n",
    " [0.25, 0.25, 0.25, 0.25],\n",
    " [0.3333333333333333, 0.3333333333333333, 0.3333333333333333, 0.0],\n",
    " [0.3333333333333333, 0.3333333333333333, 0.3333333333333333, 0.0],\n",
    " [0.3333333333333333, 0.3333333333333333, 0.3333333333333333, 0.0]]\n",
    "\n",
    "filename = \"sim_results/\""
   ]
  },
  {
   "cell_type": "code",
   "execution_count": 3,
   "metadata": {},
   "outputs": [
    {
     "name": "stdout",
     "output_type": "stream",
     "text": [
      "['Miner1', 'Miner2', 'Miner3', 'Miner4'] [0.25, 0.25, 0.25, 0.25]\n",
      "['Miner1', 'Miner2', 'Miner3', 'Miner4'] [0.25, 0.25, 0.25, 0.25]\n",
      "['Miner1', 'Miner2', 'Miner3', 'Miner4'] [0.25, 0.25, 0.25, 0.25]\n",
      "['Miner1', 'Miner2', 'Miner3', 'Miner4'] [0.25, 0.25, 0.25, 0.25]\n",
      "['Miner1', 'Miner2', 'Miner3', 'Miner4'] [0.25, 0.25, 0.25, 0.25]\n",
      "['Miner1', 'Miner2', 'Miner3', 'Miner4'] [0.25, 0.25, 0.25, 0.25]\n",
      "['Miner1', 'Miner2', 'Miner3', 'Miner4'] [0.25, 0.25, 0.25, 0.25]\n",
      "['Miner1', 'Miner2', 'Miner3', 'Miner4'] [0.25, 0.25, 0.25, 0.25]\n",
      "['Miner1', 'Miner2', 'Miner3'] [0.3333333333333333, 0.3333333333333333, 0.3333333333333333]\n",
      "['Miner1', 'Miner2', 'Miner3'] [0.3333333333333333, 0.3333333333333333, 0.3333333333333333]\n",
      "['Miner1', 'Miner2', 'Miner3'] [0.3333333333333333, 0.3333333333333333, 0.3333333333333333]\n"
     ]
    }
   ],
   "source": [
    "ctr = 0\n",
    "for hashFracs in hashFracsLog:\n",
    "    ctr2 = 1\n",
    "    minerIDs, tmp = [], []\n",
    "    for hashFrac in hashFracs:\n",
    "        if hashFrac != 0:\n",
    "            minerIDs.append(ctr2)\n",
    "            tmp.append(hashFrac)\n",
    "        ctr2 += 1\n",
    "    labels = ['Miner' + str(_id) for _id in minerIDs]\n",
    "    print(labels, tmp)\n",
    "    plt.pie(tmp, labels=labels, autopct='%1.1f%%', shadow=True, startangle=140)\n",
    "    plt.axis('equal')\n",
    "    plt.show(filename + 'hashFracs_' + str(ctr) + '.png')\n",
    "    ctr += 1"
   ]
  }
 ],
 "metadata": {
  "kernelspec": {
   "display_name": "Python 3",
   "language": "python",
   "name": "python3"
  },
  "language_info": {
   "codemirror_mode": {
    "name": "ipython",
    "version": 3
   },
   "file_extension": ".py",
   "mimetype": "text/x-python",
   "name": "python",
   "nbconvert_exporter": "python",
   "pygments_lexer": "ipython3",
   "version": "3.4.3"
  }
 },
 "nbformat": 4,
 "nbformat_minor": 2
}
