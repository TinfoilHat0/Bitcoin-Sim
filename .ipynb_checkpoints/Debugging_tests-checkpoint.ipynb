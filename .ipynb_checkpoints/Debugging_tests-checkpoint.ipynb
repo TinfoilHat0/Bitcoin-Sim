{
 "cells": [
  {
   "cell_type": "code",
   "execution_count": 1,
   "metadata": {},
   "outputs": [],
   "source": [
    "import bisect\n",
    "import random\n",
    "from dataStructures import *\n",
    "from fruitchain import *\n",
    "import matplotlib.pyplot as plt\n",
    "import math\n",
    "import numpy as np"
   ]
  },
  {
   "cell_type": "code",
   "execution_count": 2,
   "metadata": {},
   "outputs": [],
   "source": [
    "c1 = 1/100\n",
    "c2 = 1/10\n",
    "c3 = 1/100\n",
    "pF = 1\n",
    "p = 1/10\n",
    "k = 16\n",
    "coinbaseReward = 12.5\n",
    "hi = 0.2"
   ]
  },
  {
   "cell_type": "code",
   "execution_count": 3,
   "metadata": {},
   "outputs": [],
   "source": [
    "expFruitPerBlock = pF / p\n",
    "expNormalFruitReward = ( (1-c1)*coinbaseReward ) / ( k*(expFruitPerBlock+1) )\n",
    "expFTCPerFruit = k * expNormalFruitReward * (1 - c2 + c3)\n",
    "expFTCPerBlock = c1*coinbaseReward + k * (expFruitPerBlock*expNormalFruitReward*(c2-c3)  + expNormalFruitReward)\n",
    "expMyFruitsPerBlock = expFruitPerBlock * hi"
   ]
  },
  {
   "cell_type": "code",
   "execution_count": 4,
   "metadata": {},
   "outputs": [],
   "source": [
    "expGain = p*hi*expFTCPerBlock + (pF*hi)*expFTCPerFruit"
   ]
  },
  {
   "cell_type": "code",
   "execution_count": 5,
   "metadata": {},
   "outputs": [
    {
     "data": {
      "text/plain": [
       "0.2"
      ]
     },
     "execution_count": 5,
     "metadata": {},
     "output_type": "execute_result"
    }
   ],
   "source": [
    "expGain/(p*coinbaseReward)"
   ]
  },
  {
   "cell_type": "code",
   "execution_count": 6,
   "metadata": {},
   "outputs": [],
   "source": [
    "expR = (expMyFruitsPerBlock+p*hi)*k*(expNormalFruitReward*(1-c2+c3) +p*hi*expNormalFruitReward*(c2-c3))"
   ]
  },
  {
   "cell_type": "code",
   "execution_count": 7,
   "metadata": {},
   "outputs": [],
   "source": [
    "expGain2 = p*hi*c1*coinbaseReward + p*expR "
   ]
  },
  {
   "cell_type": "code",
   "execution_count": 8,
   "metadata": {},
   "outputs": [
    {
     "data": {
      "text/plain": [
       "0.24818599999999996"
      ]
     },
     "execution_count": 8,
     "metadata": {},
     "output_type": "execute_result"
    }
   ],
   "source": [
    "expGain2/(p*coinbaseReward)"
   ]
  }
 ],
 "metadata": {
  "kernelspec": {
   "display_name": "Python 3",
   "language": "python",
   "name": "python3"
  },
  "language_info": {
   "codemirror_mode": {
    "name": "ipython",
    "version": 3
   },
   "file_extension": ".py",
   "mimetype": "text/x-python",
   "name": "python",
   "nbconvert_exporter": "python",
   "pygments_lexer": "ipython3",
   "version": "3.5.2"
  }
 },
 "nbformat": 4,
 "nbformat_minor": 2
}
