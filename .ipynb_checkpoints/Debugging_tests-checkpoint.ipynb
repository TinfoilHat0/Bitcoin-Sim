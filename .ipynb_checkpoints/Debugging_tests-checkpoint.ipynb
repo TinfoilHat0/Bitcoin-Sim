{
 "cells": [
  {
   "cell_type": "code",
   "execution_count": 1,
   "metadata": {},
   "outputs": [],
   "source": [
    "import bisect\n",
    "import random\n",
    "from dataStructures import *\n",
    "from fruitchain import *\n",
    "import matplotlib.pyplot as plt"
   ]
  },
  {
   "cell_type": "code",
   "execution_count": 2,
   "metadata": {},
   "outputs": [
    {
     "data": {
      "image/png": "[encoded data removed]",
      "text/plain": [
       "<matplotlib.figure.Figure at 0x7f214ea6e828>"
      ]
     },
     "metadata": {},
     "output_type": "display_data"
    }
   ],
   "source": [
    "hashFracs = [0.2, 0.2, 0.2, 0.2, 0.2]\n",
    "blocksMined = [10, 10, 20, 20, 10]\n",
    "bitcoinRewards = [10, 20, 10, 20, 10]\n",
    "fruitchainRewards = [15, 15, 20, 20, 15]\n",
    "\n",
    "\n",
    "totalBlocksMined = sum(blocksMined)\n",
    "blocksMined = [i/totalBlocksMined for i in blocksMined]\n",
    "\n",
    "totalBitcoinReward = sum(bitcoinRewards)\n",
    "bitcoinRewards = [i/totalBitcoinReward for i in bitcoinRewards]\n",
    "\n",
    "totalFruitchainReward = sum(fruitchainRewards)\n",
    "fruitchainRewards = [i/totalFruitchainReward for i in fruitchainRewards]\n",
    "\n",
    "\n",
    "N = len(hashFracs)\n",
    "ind = np.arange(N)\n",
    "width = 0.2\n",
    "fig = plt.figure()\n",
    "ax = fig.add_subplot(111)\n",
    "\n",
    "rects1 = ax.bar(ind, hashFracs, width, color='r')\n",
    "rects2 = ax.bar(ind+width, blocksMined, width, color='b')\n",
    "rects3 = ax.bar(ind+width*2, bitcoinRewards, width, color='y')\n",
    "rects4 = ax.bar(ind+width*3, fruitchainRewards, width, color='g')\n",
    "\n",
    "ax.set_ylabel('Fraction')\n",
    "ax.set_xlabel('Miners IDs')\n",
    "ax.set_xticks(ind+width)\n",
    "\n",
    "ax.set_xticklabels( [i for i in range(N)] )\n",
    "ax.legend( (rects1[0], rects2[0], rects3[0], rects4[0]), ('HashPow', 'BlocksMined', 'BitcoinReward', 'FruitReward'),\n",
    "bbox_to_anchor=(1.05, 1), loc=2, borderaxespad=0.)\n",
    "\n",
    "def autolabel(rects):\n",
    "    for rect in rects:\n",
    "        h = rect.get_height()\n",
    "        ax.text(rect.get_x()+rect.get_width()/2., 1.05*h, str(round(h, 2)),\n",
    "                ha='center', va='bottom')\n",
    "\n",
    "autolabel(rects1)\n",
    "autolabel(rects2)\n",
    "autolabel(rects3)\n",
    "autolabel(rects4)\n",
    "\n",
    "plt.show()"
   ]
  },
  {
   "cell_type": "code",
   "execution_count": null,
   "metadata": {},
   "outputs": [],
   "source": []
  }
 ],
 "metadata": {
  "kernelspec": {
   "display_name": "Python 3",
   "language": "python",
   "name": "python3"
  },
  "language_info": {
   "codemirror_mode": {
    "name": "ipython",
    "version": 3
   },
   "file_extension": ".py",
   "mimetype": "text/x-python",
   "name": "python",
   "nbconvert_exporter": "python",
   "pygments_lexer": "ipython3",
   "version": "3.5.2"
  }
 },
 "nbformat": 4,
 "nbformat_minor": 2
}
