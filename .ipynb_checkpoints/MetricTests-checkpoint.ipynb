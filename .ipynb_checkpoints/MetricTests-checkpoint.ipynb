{
 "cells": [
  {
   "cell_type": "code",
   "execution_count": 1,
   "metadata": {},
   "outputs": [],
   "source": [
    "from simulator import *\n",
    "import createPlots as cp\n",
    "import numpy as np\n",
    "import random"
   ]
  },
  {
   "cell_type": "code",
   "execution_count": 2,
   "metadata": {},
   "outputs": [],
   "source": [
    "# We fix number of nodes and parameters of fruitchain(c1,c2,c3,k) under all settings. \n",
    "n, k = 4, 16\n",
    "avgOver = 2 # Average each point over this many runs"
   ]
  },
  {
   "cell_type": "code",
   "execution_count": 3,
   "metadata": {
    "scrolled": true
   },
   "outputs": [],
   "source": [
    "# 1. Parameters for Metric vs. Window Length\n",
    "# Fix c0 = 5 (e.g p = 1/10, pF = 1/2)\n",
    "p, pF = 1/10, 1/2\n",
    "hashFracs = [0.25, 0.25, 0.25, 0.25]\n",
    "lengthDays = [10] #[30, 80, 130, 180] #days\n",
    "lengthRounds = [ceil(1/p)*144*length for length in lengthDays]"
   ]
  },
  {
   "cell_type": "code",
   "execution_count": 4,
   "metadata": {},
   "outputs": [
    {
     "name": "stdout",
     "output_type": "stream",
     "text": [
      "Simulation for r=14400 rounds has finished!\n",
      "Simulation 1 has finished!\n",
      "Simulation for r=14400 rounds has finished!\n",
      "Simulation 2 has finished!\n",
      "All simulations have finished!\n",
      "Writing results to file: sim_results/metricTests/lengthTests/length_14400_\n",
      "Finished!\n"
     ]
    }
   ],
   "source": [
    "# 1. Metric vs. Window Length, cont.\n",
    "fileName = \"sim_results/metricTests/lengthTests/\" \n",
    "for r in lengthRounds:\n",
    "    sim = Simulator(n, r, p, pF, hashFracs, k, avgOver)\n",
    "    sim.run(fileName + \"length_\" + str(r) + \"_\")"
   ]
  },
  {
   "cell_type": "code",
   "execution_count": 5,
   "metadata": {},
   "outputs": [],
   "source": [
    "#2. Metric vs. hash rate fraction settings\n",
    "# Fix window length and c0\n",
    "# Vary hash fractions settings:All same, with some std.dev, with some larger std.dev\n",
    "r = lengthRounds[-1]\n",
    "setting1 = [1/n for i in range(n)] # All same\n",
    "setting2 = [0.35, 0.3, 0.25, 0.1]\n",
    "setting3 = [0.45, 0.35, 0.15, 0.05] # Real distribution\n",
    "setting4 = [0.8, 0.15, 0.04, 0.01]\n",
    "hashSettings = [setting1, setting2, setting3, setting4]\n",
    "fileName = \"sim_results/metricTests/hashTests/\""
   ]
  },
  {
   "cell_type": "code",
   "execution_count": 6,
   "metadata": {},
   "outputs": [
    {
     "name": "stdout",
     "output_type": "stream",
     "text": [
      "Simulation for r=14400 rounds has finished!\n",
      "Simulation 1 has finished!\n",
      "Simulation for r=14400 rounds has finished!\n",
      "Simulation 2 has finished!\n",
      "All simulations have finished!\n",
      "Writing results to file: sim_results/metricTests/hashTests/hashSetting_1_\n",
      "Finished!\n",
      "Simulation for r=14400 rounds has finished!\n",
      "Simulation 1 has finished!\n",
      "Simulation for r=14400 rounds has finished!\n",
      "Simulation 2 has finished!\n",
      "All simulations have finished!\n",
      "Writing results to file: sim_results/metricTests/hashTests/hashSetting_2_\n",
      "Finished!\n",
      "Simulation for r=14400 rounds has finished!\n",
      "Simulation 1 has finished!\n",
      "Simulation for r=14400 rounds has finished!\n",
      "Simulation 2 has finished!\n",
      "All simulations have finished!\n",
      "Writing results to file: sim_results/metricTests/hashTests/hashSetting_3_\n",
      "Finished!\n",
      "Simulation for r=14400 rounds has finished!\n",
      "Simulation 1 has finished!\n",
      "Simulation for r=14400 rounds has finished!\n",
      "Simulation 2 has finished!\n",
      "All simulations have finished!\n",
      "Writing results to file: sim_results/metricTests/hashTests/hashSetting_4_\n",
      "Finished!\n"
     ]
    }
   ],
   "source": [
    "#2. Metric vs. hash rate fraction settings, cont.\n",
    "for i in range(len(hashSettings)): \n",
    "    sim = Simulator(n, r, p, pF, hashSettings[i], k, avgOver)\n",
    "    sim.run(fileName + \"hashSetting_\" + str(i+1) + \"_\")"
   ]
  },
  {
   "cell_type": "code",
   "execution_count": 7,
   "metadata": {},
   "outputs": [
    {
     "name": "stdout",
     "output_type": "stream",
     "text": [
      "Simulation for r=14400 rounds has finished!\n",
      "Simulation 1 has finished!\n",
      "Simulation for r=14400 rounds has finished!\n",
      "Simulation 2 has finished!\n",
      "All simulations have finished!\n",
      "Writing results to file: sim_results/metricTests/blockTests/blockSetting_1_\n",
      "Finished!\n",
      "Simulation for r=14400 rounds has finished!\n",
      "Simulation 1 has finished!\n",
      "Simulation for r=14400 rounds has finished!\n",
      "Simulation 2 has finished!\n",
      "All simulations have finished!\n",
      "Writing results to file: sim_results/metricTests/blockTests/blockSetting_2_\n",
      "Finished!\n",
      "Simulation for r=14400 rounds has finished!\n",
      "Simulation 1 has finished!\n",
      "Simulation for r=14400 rounds has finished!\n",
      "Simulation 2 has finished!\n",
      "All simulations have finished!\n",
      "Writing results to file: sim_results/metricTests/blockTests/blockSetting_3_\n",
      "Finished!\n",
      "Simulation for r=14400 rounds has finished!\n",
      "Simulation 1 has finished!\n",
      "Simulation for r=14400 rounds has finished!\n",
      "Simulation 2 has finished!\n",
      "All simulations have finished!\n",
      "Writing results to file: sim_results/metricTests/blockTests/blockSetting_4_\n",
      "Finished!\n"
     ]
    }
   ],
   "source": [
    "#3. Metric vs. block reward distribution\n",
    "r = lengthRounds[-1]\n",
    "blockRewardSettings = [ (12.5, 12.5), (1, 10), (1, 100), (1, 1000) ]\n",
    "fileName = \"sim_results/metricTests/blockTests/\"\n",
    "for i in range(len(blockRewardSettings)):\n",
    "    sim = Simulator(n, r, p, pF, hashFracs, k, avgOver, blockRewardSettings[i])\n",
    "    sim.run(fileName + \"blockSetting_\" + str(i+1) + \"_\")"
   ]
  },
  {
   "cell_type": "code",
   "execution_count": 9,
   "metadata": {},
   "outputs": [
    {
     "ename": "FileNotFoundError",
     "evalue": "[Errno 2] No such file or directory: 'sim_results/metricTests/lengthTests/length_10_RewardGapBTC'",
     "output_type": "error",
     "traceback": [
      "\u001b[0;31m---------------------------------------------------------------------------\u001b[0m",
      "\u001b[0;31mFileNotFoundError\u001b[0m                         Traceback (most recent call last)",
      "\u001b[0;32m<ipython-input-9-7e82d7491219>\u001b[0m in \u001b[0;36m<module>\u001b[0;34m()\u001b[0m\n\u001b[0;32m----> 1\u001b[0;31m \u001b[0mcp\u001b[0m\u001b[0;34m.\u001b[0m\u001b[0mplotRewardGapMetric\u001b[0m\u001b[0;34m(\u001b[0m\u001b[0mlengthDays\u001b[0m\u001b[0;34m,\u001b[0m \u001b[0mhashSettings\u001b[0m\u001b[0;34m,\u001b[0m \u001b[0mblockRewardSettings\u001b[0m\u001b[0;34m)\u001b[0m\u001b[0;34m\u001b[0m\u001b[0m\n\u001b[0m",
      "\u001b[0;32m~/master_project/Bitcoin-Sim/createPlots.py\u001b[0m in \u001b[0;36mplotRewardGapMetric\u001b[0;34m(lengths, hashSettings, blockSettings)\u001b[0m\n\u001b[1;32m     13\u001b[0m     \u001b[0mmetricLengthBTC\u001b[0m\u001b[0;34m,\u001b[0m \u001b[0mmetricLengthFTC\u001b[0m \u001b[0;34m=\u001b[0m \u001b[0;34m[\u001b[0m\u001b[0;34m]\u001b[0m\u001b[0;34m,\u001b[0m \u001b[0;34m[\u001b[0m\u001b[0;34m]\u001b[0m\u001b[0;34m\u001b[0m\u001b[0m\n\u001b[1;32m     14\u001b[0m     \u001b[0;32mfor\u001b[0m \u001b[0mlength\u001b[0m \u001b[0;32min\u001b[0m \u001b[0mlengths\u001b[0m\u001b[0;34m:\u001b[0m\u001b[0;34m\u001b[0m\u001b[0m\n\u001b[0;32m---> 15\u001b[0;31m         \u001b[0mbtcLog\u001b[0m \u001b[0;34m=\u001b[0m \u001b[0mnp\u001b[0m\u001b[0;34m.\u001b[0m\u001b[0mloadtxt\u001b[0m\u001b[0;34m(\u001b[0m\u001b[0mfName\u001b[0m \u001b[0;34m+\u001b[0m \u001b[0;34m\"length_\"\u001b[0m \u001b[0;34m+\u001b[0m \u001b[0mstr\u001b[0m\u001b[0;34m(\u001b[0m\u001b[0mlength\u001b[0m\u001b[0;34m)\u001b[0m \u001b[0;34m+\u001b[0m \u001b[0;34m\"_\"\u001b[0m \u001b[0;34m+\u001b[0m \u001b[0;34m\"RewardGapBTC\"\u001b[0m\u001b[0;34m,\u001b[0m \u001b[0mdelimiter\u001b[0m\u001b[0;34m=\u001b[0m\u001b[0;34m\",\"\u001b[0m\u001b[0;34m)\u001b[0m\u001b[0;34m\u001b[0m\u001b[0m\n\u001b[0m\u001b[1;32m     16\u001b[0m         \u001b[0mftcLog\u001b[0m \u001b[0;34m=\u001b[0m \u001b[0mnp\u001b[0m\u001b[0;34m.\u001b[0m\u001b[0mloadtxt\u001b[0m\u001b[0;34m(\u001b[0m\u001b[0mfName\u001b[0m \u001b[0;34m+\u001b[0m \u001b[0;34m\"length_\"\u001b[0m \u001b[0;34m+\u001b[0m \u001b[0mstr\u001b[0m\u001b[0;34m(\u001b[0m\u001b[0mlength\u001b[0m\u001b[0;34m)\u001b[0m \u001b[0;34m+\u001b[0m \u001b[0;34m\"_\"\u001b[0m \u001b[0;34m+\u001b[0m \u001b[0;34m\"RewardGapFTC\"\u001b[0m\u001b[0;34m,\u001b[0m \u001b[0mdelimiter\u001b[0m\u001b[0;34m=\u001b[0m\u001b[0;34m\",\"\u001b[0m\u001b[0;34m)\u001b[0m\u001b[0;34m\u001b[0m\u001b[0m\n\u001b[1;32m     17\u001b[0m         \u001b[0mmetricLengthBTC\u001b[0m\u001b[0;34m.\u001b[0m\u001b[0mappend\u001b[0m\u001b[0;34m(\u001b[0m \u001b[0msum\u001b[0m\u001b[0;34m(\u001b[0m\u001b[0mbtcLog\u001b[0m\u001b[0;34m)\u001b[0m \u001b[0;34m/\u001b[0m \u001b[0mlen\u001b[0m\u001b[0;34m(\u001b[0m\u001b[0mbtcLog\u001b[0m\u001b[0;34m)\u001b[0m \u001b[0;34m)\u001b[0m\u001b[0;34m\u001b[0m\u001b[0m\n",
      "\u001b[0;32m/usr/local/lib/python3.5/dist-packages/numpy/lib/npyio.py\u001b[0m in \u001b[0;36mloadtxt\u001b[0;34m(fname, dtype, comments, delimiter, converters, skiprows, usecols, unpack, ndmin)\u001b[0m\n\u001b[1;32m    896\u001b[0m                 \u001b[0mfh\u001b[0m \u001b[0;34m=\u001b[0m \u001b[0miter\u001b[0m\u001b[0;34m(\u001b[0m\u001b[0mopen\u001b[0m\u001b[0;34m(\u001b[0m\u001b[0mfname\u001b[0m\u001b[0;34m,\u001b[0m \u001b[0;34m'U'\u001b[0m\u001b[0;34m)\u001b[0m\u001b[0;34m)\u001b[0m\u001b[0;34m\u001b[0m\u001b[0m\n\u001b[1;32m    897\u001b[0m             \u001b[0;32melse\u001b[0m\u001b[0;34m:\u001b[0m\u001b[0;34m\u001b[0m\u001b[0m\n\u001b[0;32m--> 898\u001b[0;31m                 \u001b[0mfh\u001b[0m \u001b[0;34m=\u001b[0m \u001b[0miter\u001b[0m\u001b[0;34m(\u001b[0m\u001b[0mopen\u001b[0m\u001b[0;34m(\u001b[0m\u001b[0mfname\u001b[0m\u001b[0;34m)\u001b[0m\u001b[0;34m)\u001b[0m\u001b[0;34m\u001b[0m\u001b[0m\n\u001b[0m\u001b[1;32m    899\u001b[0m         \u001b[0;32melse\u001b[0m\u001b[0;34m:\u001b[0m\u001b[0;34m\u001b[0m\u001b[0m\n\u001b[1;32m    900\u001b[0m             \u001b[0mfh\u001b[0m \u001b[0;34m=\u001b[0m \u001b[0miter\u001b[0m\u001b[0;34m(\u001b[0m\u001b[0mfname\u001b[0m\u001b[0;34m)\u001b[0m\u001b[0;34m\u001b[0m\u001b[0m\n",
      "\u001b[0;31mFileNotFoundError\u001b[0m: [Errno 2] No such file or directory: 'sim_results/metricTests/lengthTests/length_10_RewardGapBTC'"
     ]
    }
   ],
   "source": [
    "cp.plotRewardGapMetric(lengthRounds, hashSettings, blockRewardSettings)"
   ]
  },
  {
   "cell_type": "code",
   "execution_count": null,
   "metadata": {},
   "outputs": [],
   "source": [
    "cp.plotFairnessMetric(lengthRounds, hashSettings, blockRewardSettings)"
   ]
  },
  {
   "cell_type": "code",
   "execution_count": null,
   "metadata": {},
   "outputs": [],
   "source": []
  }
 ],
 "metadata": {
  "kernelspec": {
   "display_name": "Python 3",
   "language": "python",
   "name": "python3"
  },
  "language_info": {
   "codemirror_mode": {
    "name": "ipython",
    "version": 3
   },
   "file_extension": ".py",
   "mimetype": "text/x-python",
   "name": "python",
   "nbconvert_exporter": "python",
   "pygments_lexer": "ipython3",
   "version": "3.5.2"
  }
 },
 "nbformat": 4,
 "nbformat_minor": 1
}
