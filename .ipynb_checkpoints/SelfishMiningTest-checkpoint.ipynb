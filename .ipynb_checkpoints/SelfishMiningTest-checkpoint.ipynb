{
 "cells": [
  {
   "cell_type": "code",
   "execution_count": 1,
   "metadata": {},
   "outputs": [],
   "source": [
    "from simulator import *\n",
    "import createPlots as cp\n",
    "import numpy as np\n",
    "import random"
   ]
  },
  {
   "cell_type": "code",
   "execution_count": 2,
   "metadata": {},
   "outputs": [],
   "source": [
    "n = 2\n",
    "p, pF = 1/100, 1\n",
    "r = 10**5\n",
    "attackerHashRate = [0.1, 0.2, 0.3, 0.4, 0.5]\n",
    "btcRewardLog, ftcRewardLog = [], []"
   ]
  },
  {
   "cell_type": "code",
   "execution_count": 3,
   "metadata": {},
   "outputs": [
    {
     "name": "stdout",
     "output_type": "stream",
     "text": [
      "Round:50000 has finished.\n",
      "Round:100000 has finished.\n",
      "Simulation for r=100000 rounds has finished!\n",
      "Simulation 1 has finished!\n",
      "All simulations have finished!\n",
      "Writing results to file: \n",
      "Finished!\n"
     ]
    }
   ],
   "source": [
    "sim = Simulator(n, p, pF, r, [0.5, 0.5])\n",
    "sim.run()"
   ]
  },
  {
   "cell_type": "code",
   "execution_count": 4,
   "metadata": {},
   "outputs": [
    {
     "ename": "NameError",
     "evalue": "name 'totalRewardFTC' is not defined",
     "output_type": "error",
     "traceback": [
      "\u001b[0;31m---------------------------------------------------------------------------\u001b[0m",
      "\u001b[0;31mNameError\u001b[0m                                 Traceback (most recent call last)",
      "\u001b[0;32m<ipython-input-4-17d9d650b525>\u001b[0m in \u001b[0;36m<module>\u001b[0;34m()\u001b[0m\n\u001b[1;32m      1\u001b[0m \u001b[0;32mfor\u001b[0m \u001b[0mnode\u001b[0m \u001b[0;32min\u001b[0m \u001b[0msim\u001b[0m\u001b[0;34m.\u001b[0m\u001b[0menvironment\u001b[0m\u001b[0;34m.\u001b[0m\u001b[0mnodes\u001b[0m\u001b[0;34m:\u001b[0m\u001b[0;34m\u001b[0m\u001b[0m\n\u001b[0;32m----> 2\u001b[0;31m     \u001b[0mprint\u001b[0m\u001b[0;34m(\u001b[0m\u001b[0mnode\u001b[0m\u001b[0;34m.\u001b[0m\u001b[0mtotalRewardBTC\u001b[0m\u001b[0;34m,\u001b[0m \u001b[0mtotalRewardFTC\u001b[0m\u001b[0;34m)\u001b[0m\u001b[0;34m\u001b[0m\u001b[0m\n\u001b[0m",
      "\u001b[0;31mNameError\u001b[0m: name 'totalRewardFTC' is not defined"
     ]
    }
   ],
   "source": [
    "for node in sim.environment.nodes:\n",
    "    print(node.totalRewardBTC, totalRewardFTC)"
   ]
  },
  {
   "cell_type": "code",
   "execution_count": null,
   "metadata": {},
   "outputs": [],
   "source": [
    "for h in attackerHashRate:\n",
    "    hashFracs = [1-h, h]\n",
    "    sim = Simulator(n, p, pF, r, hashFracs)\n",
    "    sim.run()\n",
    "    btcRewardLog.append(sim.environment.nodes[1].totalRewardBTC / sim.environment.totalNetworkRewardBTC)\n",
    "    ftcRewardLog.append(sim.environment.nodes[1].totalRewardFTC / sim.environment.totalNetworkRewardFTC)"
   ]
  },
  {
   "cell_type": "code",
   "execution_count": null,
   "metadata": {},
   "outputs": [],
   "source": [
    "cp.plotSelfishMining(attackerHashRate, btcRewardLog, ftcRewardLog)"
   ]
  }
 ],
 "metadata": {
  "kernelspec": {
   "display_name": "Python 3",
   "language": "python",
   "name": "python3"
  },
  "language_info": {
   "codemirror_mode": {
    "name": "ipython",
    "version": 3
   },
   "file_extension": ".py",
   "mimetype": "text/x-python",
   "name": "python",
   "nbconvert_exporter": "python",
   "pygments_lexer": "ipython3",
   "version": "3.4.3"
  }
 },
 "nbformat": 4,
 "nbformat_minor": 2
}
