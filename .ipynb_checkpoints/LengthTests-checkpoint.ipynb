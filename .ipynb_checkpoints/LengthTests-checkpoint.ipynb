{
 "cells": [
  {
   "cell_type": "code",
   "execution_count": 1,
   "metadata": {},
   "outputs": [],
   "source": [
    "from simulator import *\n",
    "import createPlots as cp\n",
    "import numpy as np\n",
    "import random"
   ]
  },
  {
   "cell_type": "code",
   "execution_count": 2,
   "metadata": {},
   "outputs": [],
   "source": [
    "# We fix number of nodes and parameters of fruitchain(c1,c2,c3,k) under all settings. \n",
    "n = 15\n",
    "avgOver = 5 # Average each point over this many runs"
   ]
  },
  {
   "cell_type": "code",
   "execution_count": null,
   "metadata": {},
   "outputs": [],
   "source": [
    "# 1. Parameters for Metric vs. Window Length\n",
    "p, pF = 1/100, 1/10\n",
    "hashFracs = [1/n for _ in range(n)]\n",
    "lengthRounds = [i*(10**4) for i in range(1, 6)]\n",
    "fileName = \"sim_results/metricTests/lengthTests/\" "
   ]
  },
  {
   "cell_type": "code",
   "execution_count": null,
   "metadata": {},
   "outputs": [
    {
     "name": "stdout",
     "output_type": "stream",
     "text": [
      "Simulation for r=10000 rounds has finished!\n",
      "Simulation 1 has finished!\n",
      "Simulation for r=10000 rounds has finished!\n",
      "Simulation 2 has finished!\n",
      "Simulation for r=10000 rounds has finished!\n",
      "Simulation 3 has finished!\n",
      "Simulation for r=10000 rounds has finished!\n",
      "Simulation 4 has finished!\n",
      "Simulation for r=10000 rounds has finished!\n",
      "Simulation 5 has finished!\n",
      "All simulations have finished!\n",
      "Writing results to file: sim_results/metricTests/lengthTests/length_10000_\n",
      "Finished!\n",
      "954.444444444 130.171052632\n",
      "2372.0 130.171052632\n",
      "1130.28571429 130.171052632\n",
      "2137.5 130.171052632\n",
      "1520.33333333 130.171052632\n",
      "993.875 130.171052632\n",
      "1128.0 130.171052632\n",
      "1239.8 130.171052632\n",
      "1784.6 130.171052632\n",
      "731.0 130.171052632\n",
      "3161.0 130.171052632\n",
      "1413.28571429 130.171052632\n",
      "1513.0 130.171052632\n",
      "1387.28571429 130.171052632\n",
      "3630.5 130.171052632\n",
      "Simulation for r=20000 rounds has finished!\n",
      "Simulation 1 has finished!\n",
      "Simulation for r=20000 rounds has finished!\n",
      "Simulation 2 has finished!\n",
      "Simulation for r=20000 rounds has finished!\n",
      "Simulation 3 has finished!\n",
      "Simulation for r=20000 rounds has finished!\n",
      "Simulation 4 has finished!\n",
      "Simulation for r=20000 rounds has finished!\n",
      "Simulation 5 has finished!\n",
      "All simulations have finished!\n",
      "Writing results to file: sim_results/metricTests/lengthTests/length_20000_\n",
      "Finished!\n",
      "2150.11111111 108.956043956\n",
      "1021.27777778 108.956043956\n",
      "1456.09090909 108.956043956\n",
      "961.75 108.956043956\n",
      "1744.27272727 108.956043956\n",
      "1646.77777778 108.956043956\n",
      "1082.94117647 108.956043956\n",
      "1416.42857143 108.956043956\n",
      "2235.28571429 108.956043956\n",
      "2202.55555556 108.956043956\n",
      "1092.44444444 108.956043956\n",
      "900.045454545 108.956043956\n",
      "1150.1875 108.956043956\n",
      "1518.0 108.956043956\n",
      "2327.625 108.956043956\n"
     ]
    }
   ],
   "source": [
    "# 1. Metric vs. Window Length, cont.\n",
    "for r in lengthRounds:\n",
    "    sim = Simulator(n, p, pF, r, hashFracs, avgOver)\n",
    "    sim.run(fileName + \"length_\" + str(r) + \"_\")"
   ]
  },
  {
   "cell_type": "code",
   "execution_count": null,
   "metadata": {},
   "outputs": [],
   "source": [
    "cp.plotFairnessMetric(lengthRounds)\n",
    "cp.plotSustainabilityMetric(lengthRounds)"
   ]
  },
  {
   "cell_type": "code",
   "execution_count": null,
   "metadata": {},
   "outputs": [],
   "source": [
    "node = sim.nodes[1]"
   ]
  }
 ],
 "metadata": {
  "kernelspec": {
   "display_name": "Python 3",
   "language": "python",
   "name": "python3"
  },
  "language_info": {
   "codemirror_mode": {
    "name": "ipython",
    "version": 3
   },
   "file_extension": ".py",
   "mimetype": "text/x-python",
   "name": "python",
   "nbconvert_exporter": "python",
   "pygments_lexer": "ipython3",
   "version": "3.5.2"
  }
 },
 "nbformat": 4,
 "nbformat_minor": 2
}
