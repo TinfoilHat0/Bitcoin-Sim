{
 "cells": [
  {
   "cell_type": "code",
   "execution_count": 1,
   "metadata": {},
   "outputs": [],
   "source": [
    "from simulator import *\n",
    "import createPlots as cp\n",
    "import numpy as np\n",
    "import random"
   ]
  },
  {
   "cell_type": "code",
   "execution_count": 2,
   "metadata": {},
   "outputs": [],
   "source": [
    "p, pF = 1/100, 1\n",
    "r = 2*10**6 \n",
    "hashFracs = [0.272, 0.146, 0.126, 0.116, 0.104, 0.067, 0.048, 0.035, 0.025, 0.014, 0.013, 0.011, 0.01, 0.008, 0.005]\n",
    "n = len(hashFracs)"
   ]
  },
  {
   "cell_type": "code",
   "execution_count": 3,
   "metadata": {},
   "outputs": [
    {
     "name": "stdout",
     "output_type": "stream",
     "text": [
      "Round:50000 has finished.\n",
      "Round:100000 has finished.\n",
      "!\n",
      "0.272 0 3912.5 3400.0000000000005\n",
      "0.146 0 1712.5 1824.9999999999998\n",
      "0.126 0 1662.5 1575.0\n",
      "0.116 0 1350.0 1450.0\n",
      "0.104 0 1362.5 1300.0\n",
      "0.067 0 825.0 837.5\n",
      "0.048 0 500.0 600.0\n",
      "0.035 0 237.5 437.50000000000006\n",
      "0.025 0 300.0 312.5\n",
      "0.014 0 137.5 175.00000000000003\n",
      "0.013 0 187.5 162.5\n",
      "0.011 0 162.5 137.5\n",
      "0.01 0 112.5 125.0\n",
      "0.008 0 87.5 100.0\n",
      "0.005 0 25.0 62.5\n",
      "Round:150000 has finished.\n",
      "Round:200000 has finished.\n",
      "Simulation for r=200000 rounds has finished!\n",
      "Simulation 1 has finished!\n",
      "All simulations have finished!\n",
      "Writing results to file: \n",
      "Finished!\n"
     ]
    }
   ],
   "source": [
    "sim = Simulator(n, p, pF, r, hashFracs)\n",
    "sim.run()"
   ]
  },
  {
   "cell_type": "code",
   "execution_count": 4,
   "metadata": {},
   "outputs": [],
   "source": [
    "cp.plotPoolExperiment(sim.environment.poolLog)"
   ]
  },
  {
   "cell_type": "code",
   "execution_count": null,
   "metadata": {},
   "outputs": [],
   "source": []
  }
 ],
 "metadata": {
  "kernelspec": {
   "display_name": "Python 3",
   "language": "python",
   "name": "python3"
  },
  "language_info": {
   "codemirror_mode": {
    "name": "ipython",
    "version": 3
   },
   "file_extension": ".py",
   "mimetype": "text/x-python",
   "name": "python",
   "nbconvert_exporter": "python",
   "pygments_lexer": "ipython3",
   "version": "3.4.3"
  }
 },
 "nbformat": 4,
 "nbformat_minor": 2
}
