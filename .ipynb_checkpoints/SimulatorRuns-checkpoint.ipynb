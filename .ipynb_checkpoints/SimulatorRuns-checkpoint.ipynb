{
 "cells": [
  {
   "cell_type": "code",
   "execution_count": 1,
   "metadata": {},
   "outputs": [],
   "source": [
    "from simulator import *\n",
    "import createPlots as cp\n",
    "import numpy as np\n",
    "import random"
   ]
  },
  {
   "cell_type": "code",
   "execution_count": 2,
   "metadata": {},
   "outputs": [],
   "source": [
    "# Setup the parameters\n",
    "p, pF = 1/100, 1/2\n",
    "n, t, r = 5, 0, ceil((1/p) * 8080)\n",
    "txRate, k = 0, 16\n",
    "hashFracs = [1/n for i in range(n)]\n",
    "#hashFracs = [0.9, 0.1]\n",
    "avgOver = 1\n",
    "file = \"sim_results/\""
   ]
  },
  {
   "cell_type": "code",
   "execution_count": 3,
   "metadata": {
    "scrolled": true
   },
   "outputs": [
    {
     "name": "stdout",
     "output_type": "stream",
     "text": [
      "Round:50000 has finished.\n",
      "Round:100000 has finished.\n",
      "Round:150000 has finished.\n",
      "Round:200000 has finished.\n",
      "Round:250000 has finished.\n",
      "Round:300000 has finished.\n",
      "Round:350000 has finished.\n",
      "Round:400000 has finished.\n",
      "Round:450000 has finished.\n",
      "Round:500000 has finished.\n",
      "Round:550000 has finished.\n",
      "Round:600000 has finished.\n",
      "Round:650000 has finished.\n",
      "Round:700000 has finished.\n",
      "Round:750000 has finished.\n",
      "Round:800000 has finished.\n",
      "Simulation for r=808000 rounds has finished!\n",
      "Simulation 1 has finished!\n",
      "Writing results to file: sim_results/\n",
      "Finished!\n"
     ]
    }
   ],
   "source": [
    "sim = Simulator(n, t, r, p, pF, hashFracs, txRate, k, avgOver)\n",
    "sim.run(file)"
   ]
  },
  {
   "cell_type": "code",
   "execution_count": 4,
   "metadata": {},
   "outputs": [],
   "source": [
    "cp.plotUtility(file)"
   ]
  },
  {
   "cell_type": "code",
   "execution_count": 5,
   "metadata": {},
   "outputs": [
    {
     "name": "stdout",
     "output_type": "stream",
     "text": [
      "468615 468615\n",
      "0.06014799412 0.06014799412000001\n",
      "468615 468615\n",
      "0.06014799412 0.06014799412000001\n"
     ]
    }
   ],
   "source": [
    "for node in sim.nodes:\n",
    "    print(node.expRoundsToPassThresholdBTC, node.expRoundsToPassThresholdFTC)\n",
    "    print(node.expGainPerRoundBTC, node.expGainPerRoundFTC)"
   ]
  },
  {
   "cell_type": "code",
   "execution_count": null,
   "metadata": {},
   "outputs": [],
   "source": []
  }
 ],
 "metadata": {
  "kernelspec": {
   "display_name": "Python 3",
   "language": "python",
   "name": "python3"
  },
  "language_info": {
   "codemirror_mode": {
    "name": "ipython",
    "version": 3
   },
   "file_extension": ".py",
   "mimetype": "text/x-python",
   "name": "python",
   "nbconvert_exporter": "python",
   "pygments_lexer": "ipython3",
   "version": "3.4.3"
  }
 },
 "nbformat": 4,
 "nbformat_minor": 1
}
