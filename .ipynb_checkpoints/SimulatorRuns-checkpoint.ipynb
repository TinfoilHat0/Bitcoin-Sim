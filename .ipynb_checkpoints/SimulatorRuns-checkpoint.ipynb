{
 "cells": [
  {
   "cell_type": "code",
   "execution_count": 1,
   "metadata": {},
   "outputs": [],
   "source": [
    "from simulator import *\n",
    "import createPlots as cp\n",
    "import numpy as np"
   ]
  },
  {
   "cell_type": "code",
   "execution_count": 2,
   "metadata": {},
   "outputs": [],
   "source": [
    "# Setup the parameters\n",
    "p, pF = 1/60, 1/10\n",
    "n, t, r = 1, 0, ceil((1/p) * 100)\n",
    "txRate, k = 0, 16\n",
    "hashFracs = [1/n for i in range(n)]\n",
    "avgOver = 1 # average results over that many simulations\n",
    "fName = \"sim_results/\""
   ]
  },
  {
   "cell_type": "code",
   "execution_count": 3,
   "metadata": {
    "scrolled": true
   },
   "outputs": [
    {
     "name": "stdout",
     "output_type": "stream",
     "text": [
      "Round:50000 has finished.\n",
      "Round:100000 has finished.\n",
      "Round:150000 has finished.\n",
      "Round:200000 has finished.\n",
      "Round:250000 has finished.\n",
      "Round:300000 has finished.\n",
      "Round:350000 has finished.\n",
      "Round:400000 has finished.\n",
      "Round:450000 has finished.\n",
      "Round:500000 has finished.\n",
      "Round:550000 has finished.\n",
      "Round:600000 has finished.\n",
      "Round:650000 has finished.\n",
      "Round:700000 has finished.\n",
      "Round:750000 has finished.\n",
      "Round:800000 has finished.\n",
      "Round:850000 has finished.\n",
      "Round:900000 has finished.\n",
      "Round:950000 has finished.\n",
      "Round:1000000 has finished.\n",
      "Round:1050000 has finished.\n",
      "Round:1100000 has finished.\n",
      "Round:1150000 has finished.\n",
      "Round:1200000 has finished.\n",
      "Round:1250000 has finished.\n",
      "Round:1300000 has finished.\n",
      "Round:1350000 has finished.\n",
      "Round:1400000 has finished.\n",
      "Round:1450000 has finished.\n",
      "Round:1500000 has finished.\n",
      "Round:1550000 has finished.\n",
      "Round:1600000 has finished.\n",
      "Round:1650000 has finished.\n",
      "Round:1700000 has finished.\n",
      "Round:1750000 has finished.\n",
      "Round:1800000 has finished.\n",
      "Round:1850000 has finished.\n",
      "Round:1900000 has finished.\n",
      "Round:1950000 has finished.\n",
      "Round:2000000 has finished.\n",
      "Round:2050000 has finished.\n",
      "Round:2100000 has finished.\n",
      "Round:2150000 has finished.\n",
      "Round:2200000 has finished.\n",
      "Round:2250000 has finished.\n",
      "Round:2300000 has finished.\n",
      "Round:2350000 has finished.\n",
      "Round:2400000 has finished.\n",
      "Round:2450000 has finished.\n",
      "Round:2500000 has finished.\n",
      "Round:2550000 has finished.\n",
      "Round:2600000 has finished.\n",
      "Round:2650000 has finished.\n",
      "Round:2700000 has finished.\n",
      "Simulation for r=2700000 rounds has finished!\n",
      "Simulation 1 has finished!\n",
      "Writing results to file: sim_results/\n",
      "Finished!\n"
     ]
    }
   ],
   "source": [
    "sim = Simulator(n, t, r, p, pF, hashFracs, txRate, k, avgOver)\n",
    "sim.run(fName)"
   ]
  },
  {
   "cell_type": "code",
   "execution_count": 4,
   "metadata": {
    "scrolled": true
   },
   "outputs": [],
   "source": [
    "#cp.plotMinerRewards(fName)\n",
    "#cp.plotFairnessMetric(fName)"
   ]
  },
  {
   "cell_type": "code",
   "execution_count": 5,
   "metadata": {},
   "outputs": [],
   "source": [
    "node = sim.environment.nodes[0]\n",
    "#node2 = sim.environment.nodes[1]"
   ]
  },
  {
   "cell_type": "code",
   "execution_count": 6,
   "metadata": {},
   "outputs": [],
   "source": [
    "chain = node.blockChain"
   ]
  },
  {
   "cell_type": "code",
   "execution_count": 7,
   "metadata": {},
   "outputs": [
    {
     "name": "stdout",
     "output_type": "stream",
     "text": [
      "58.81816197336826\n"
     ]
    }
   ],
   "source": [
    "totalFruits = 0\n",
    "for b in chain[1:]:\n",
    "    # print(b.nFruits)\n",
    "    totalFruits += b.nFruits\n",
    "print(totalFruits / (chain.length-1))    "
   ]
  },
  {
   "cell_type": "code",
   "execution_count": 10,
   "metadata": {},
   "outputs": [
    {
     "data": {
      "text/plain": [
       "269483"
      ]
     },
     "execution_count": 10,
     "metadata": {},
     "output_type": "execute_result"
    }
   ],
   "source": [
    "node.nFruitsMined"
   ]
  },
  {
   "cell_type": "code",
   "execution_count": 14,
   "metadata": {},
   "outputs": [
    {
     "ename": "AttributeError",
     "evalue": "'set' object has no attribute 'next'",
     "output_type": "error",
     "traceback": [
      "\u001b[0;31m---------------------------------------------------------------------------\u001b[0m",
      "\u001b[0;31mAttributeError\u001b[0m                            Traceback (most recent call last)",
      "\u001b[0;32m<ipython-input-14-31166e23495f>\u001b[0m in \u001b[0;36m<module>\u001b[0;34m()\u001b[0m\n\u001b[0;32m----> 1\u001b[0;31m \u001b[0mnode\u001b[0m\u001b[0;34m.\u001b[0m\u001b[0mvalidFruits\u001b[0m\u001b[0;34m[\u001b[0m\u001b[0;36m1\u001b[0m\u001b[0;34m]\u001b[0m\u001b[0;34m.\u001b[0m\u001b[0mnext\u001b[0m\u001b[0;34m\u001b[0m\u001b[0m\n\u001b[0m",
      "\u001b[0;31mAttributeError\u001b[0m: 'set' object has no attribute 'next'"
     ]
    }
   ],
   "source": [
    "node.validFruits[1].next"
   ]
  },
  {
   "cell_type": "code",
   "execution_count": 15,
   "metadata": {},
   "outputs": [],
   "source": [
    "f = Fruit()"
   ]
  },
  {
   "cell_type": "code",
   "execution_count": null,
   "metadata": {},
   "outputs": [],
   "source": []
  }
 ],
 "metadata": {
  "kernelspec": {
   "display_name": "Python 3",
   "language": "python",
   "name": "python3"
  },
  "language_info": {
   "codemirror_mode": {
    "name": "ipython",
    "version": 3
   },
   "file_extension": ".py",
   "mimetype": "text/x-python",
   "name": "python",
   "nbconvert_exporter": "python",
   "pygments_lexer": "ipython3",
   "version": "3.5.2"
  }
 },
 "nbformat": 4,
 "nbformat_minor": 1
}
