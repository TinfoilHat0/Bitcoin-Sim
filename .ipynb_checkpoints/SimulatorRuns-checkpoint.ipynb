{
 "cells": [
  {
   "cell_type": "code",
   "execution_count": 1,
   "metadata": {},
   "outputs": [],
   "source": [
    "from simulator import *\n",
    "import createPlots as cp\n",
    "import numpy as np\n",
    "import random"
   ]
  },
  {
   "cell_type": "code",
   "execution_count": null,
   "metadata": {},
   "outputs": [],
   "source": [
    "# Setup the parameters\n",
    "p, pF = 1/300, 1\n",
    "n, k = 10, 16\n",
    "hashFracs = [1/n for i in range(n)]\n",
    "avgOver = 10\n",
    "file = \"sim_results/\""
   ]
  },
  {
   "cell_type": "code",
   "execution_count": null,
   "metadata": {
    "scrolled": true
   },
   "outputs": [
    {
     "name": "stdout",
     "output_type": "stream",
     "text": [
      "Round:50000 has finished.\n",
      "Round:100000 has finished.\n",
      "Round:150000 has finished.\n",
      "Round:200000 has finished.\n",
      "Round:250000 has finished.\n",
      "Round:300000 has finished.\n",
      "Round:350000 has finished.\n",
      "Round:400000 has finished.\n",
      "Round:450000 has finished.\n",
      "Round:500000 has finished.\n",
      "Round:550000 has finished.\n",
      "Round:600000 has finished.\n",
      "Round:650000 has finished.\n",
      "Round:700000 has finished.\n",
      "Round:750000 has finished.\n",
      "Simulation for r=757476 rounds has finished!\n",
      "Simulation 1 has finished!\n",
      "Round:50000 has finished.\n",
      "Round:100000 has finished.\n",
      "Round:150000 has finished.\n",
      "Round:200000 has finished.\n",
      "Round:250000 has finished.\n",
      "Round:300000 has finished.\n",
      "Round:350000 has finished.\n",
      "Round:400000 has finished.\n",
      "Round:450000 has finished.\n",
      "Round:500000 has finished.\n",
      "Round:550000 has finished.\n",
      "Round:600000 has finished.\n"
     ]
    }
   ],
   "source": [
    "sim = Simulator(n, p, pF, hashFracs, k, avgOver)\n",
    "sim.run(file)"
   ]
  },
  {
   "cell_type": "code",
   "execution_count": null,
   "metadata": {},
   "outputs": [],
   "source": [
    "cp.plotStability(file)"
   ]
  },
  {
   "cell_type": "code",
   "execution_count": null,
   "metadata": {},
   "outputs": [],
   "source": []
  }
 ],
 "metadata": {
  "kernelspec": {
   "display_name": "Python 3",
   "language": "python",
   "name": "python3"
  },
  "language_info": {
   "codemirror_mode": {
    "name": "ipython",
    "version": 3
   },
   "file_extension": ".py",
   "mimetype": "text/x-python",
   "name": "python",
   "nbconvert_exporter": "python",
   "pygments_lexer": "ipython3",
   "version": "3.5.2"
  }
 },
 "nbformat": 4,
 "nbformat_minor": 1
}
