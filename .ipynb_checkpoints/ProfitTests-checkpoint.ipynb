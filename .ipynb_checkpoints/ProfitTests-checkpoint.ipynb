{
 "cells": [
  {
   "cell_type": "code",
   "execution_count": 9,
   "metadata": {},
   "outputs": [],
   "source": [
    "from simulator import *\n",
    "import createPlots as cp\n",
    "import numpy as np\n",
    "import random\n",
    "import matplotlib.pyplot as plt"
   ]
  },
  {
   "cell_type": "code",
   "execution_count": 10,
   "metadata": {},
   "outputs": [
    {
     "name": "stdout",
     "output_type": "stream",
     "text": [
      "2160000\n"
     ]
    }
   ],
   "source": [
    "p, pF = 1/1000, 1\n",
    "#r =  10**6\n",
    "avgOver = 1\n",
    "n = 2\n",
    "h = 10**(-2)\n",
    "r = ceil( (1/p)*144*15 )\n",
    "print(r)"
   ]
  },
  {
   "cell_type": "code",
   "execution_count": 11,
   "metadata": {},
   "outputs": [],
   "source": [
    "hashSetting = [1-h, h]"
   ]
  },
  {
   "cell_type": "code",
   "execution_count": 12,
   "metadata": {},
   "outputs": [
    {
     "name": "stdout",
     "output_type": "stream",
     "text": [
      "Round:50000 has finished.\n",
      "Round:100000 has finished.\n",
      "Round:150000 has finished.\n",
      "Round:200000 has finished.\n",
      "Round:250000 has finished.\n",
      "Round:300000 has finished.\n",
      "Round:350000 has finished.\n",
      "Round:400000 has finished.\n",
      "Round:450000 has finished.\n",
      "Round:500000 has finished.\n",
      "Round:550000 has finished.\n",
      "Round:600000 has finished.\n",
      "Round:650000 has finished.\n",
      "Round:700000 has finished.\n",
      "Round:750000 has finished.\n",
      "Round:800000 has finished.\n",
      "Round:850000 has finished.\n",
      "Round:900000 has finished.\n",
      "Round:950000 has finished.\n",
      "Round:1000000 has finished.\n",
      "Round:1050000 has finished.\n",
      "Round:1100000 has finished.\n",
      "Round:1150000 has finished.\n",
      "Round:1200000 has finished.\n",
      "Round:1250000 has finished.\n",
      "Round:1300000 has finished.\n",
      "Round:1350000 has finished.\n",
      "Round:1400000 has finished.\n",
      "Round:1450000 has finished.\n",
      "Round:1500000 has finished.\n",
      "Round:1550000 has finished.\n",
      "Round:1600000 has finished.\n",
      "Round:1650000 has finished.\n",
      "Round:1700000 has finished.\n",
      "Round:1750000 has finished.\n",
      "Round:1800000 has finished.\n",
      "Round:1850000 has finished.\n",
      "Round:1900000 has finished.\n",
      "Round:1950000 has finished.\n",
      "Round:2000000 has finished.\n",
      "Round:2050000 has finished.\n",
      "Round:2100000 has finished.\n",
      "Round:2150000 has finished.\n",
      "Simulation for r=2160000 rounds has finished!\n",
      "Simulation 1 has finished!\n",
      "All simulations have finished!\n",
      "Writing results to file: \n",
      "Finished!\n"
     ]
    }
   ],
   "source": [
    "sim = Simulator(n, p, pF, r, hashSetting, avgOver)\n",
    "sim.run()"
   ]
  },
  {
   "cell_type": "code",
   "execution_count": 13,
   "metadata": {},
   "outputs": [],
   "source": [
    "node = sim.nodes[1]"
   ]
  },
  {
   "cell_type": "code",
   "execution_count": 14,
   "metadata": {},
   "outputs": [],
   "source": [
    "lst1 = node.rewardByRoundBTC"
   ]
  },
  {
   "cell_type": "code",
   "execution_count": 15,
   "metadata": {},
   "outputs": [],
   "source": [
    "lst2 = node.rewardByRoundFTC"
   ]
  },
  {
   "cell_type": "code",
   "execution_count": 16,
   "metadata": {},
   "outputs": [],
   "source": [
    "cp.plotReward(lst1, lst2, node.costByRound)"
   ]
  },
  {
   "cell_type": "code",
   "execution_count": null,
   "metadata": {},
   "outputs": [],
   "source": []
  }
 ],
 "metadata": {
  "kernelspec": {
   "display_name": "Python 3",
   "language": "python",
   "name": "python3"
  },
  "language_info": {
   "codemirror_mode": {
    "name": "ipython",
    "version": 3
   },
   "file_extension": ".py",
   "mimetype": "text/x-python",
   "name": "python",
   "nbconvert_exporter": "python",
   "pygments_lexer": "ipython3",
   "version": "3.5.2"
  }
 },
 "nbformat": 4,
 "nbformat_minor": 2
}
