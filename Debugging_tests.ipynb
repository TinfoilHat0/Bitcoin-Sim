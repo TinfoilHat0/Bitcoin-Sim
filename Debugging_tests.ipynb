{
 "cells": [
  {
   "cell_type": "code",
   "execution_count": 1,
   "metadata": {},
   "outputs": [],
   "source": [
    "import bisect\n",
    "import random\n",
    "from dataStructures import *\n",
    "from fruitchain import *\n",
    "import matplotlib.pyplot as plt"
   ]
  },
  {
   "cell_type": "code",
   "execution_count": 2,
   "metadata": {},
   "outputs": [],
   "source": [
    "nodes = []\n",
    "for i in range(0, 6):\n",
    "    nodes.append(Node(i))\n",
    "env = Environment()\n",
    "env.initializeNodes(nodes)\n",
    "env.k = 2"
   ]
  },
  {
   "cell_type": "code",
   "execution_count": 3,
   "metadata": {},
   "outputs": [],
   "source": [
    "# Miner0 mines a fruit\n",
    "f1 = nodes[0].mineFruit(1)\n",
    "f1.contBlockHeight = 2\n",
    "f1.hangBlockHeight = 1\n",
    "for node in nodes:\n",
    "    node.deliver((None, f1))"
   ]
  },
  {
   "cell_type": "code",
   "execution_count": 4,
   "metadata": {},
   "outputs": [],
   "source": [
    "# Miner1 mines a b1, puts f1 in it\n",
    "b1 = nodes[1].mineBlock(2)\n",
    "for node in nodes:\n",
    "    node.deliver((b1, None))"
   ]
  },
  {
   "cell_type": "code",
   "execution_count": 5,
   "metadata": {},
   "outputs": [],
   "source": [
    "# Resp. miner2 mines f2 and miner3 mines f3\n",
    "f2 = nodes[2].mineFruit(3)\n",
    "f3 = nodes[3].mineFruit(4)\n",
    "f2.contBlockHeight = 3\n",
    "f2.hangBlockHeight = 1\n",
    "f3.contBlockHeight = 3\n",
    "f3.hangBlockHeight = 1\n",
    "for node in nodes:\n",
    "    node.deliver((None, f2))\n",
    "for node in nodes:\n",
    "    node.deliver((None, f3))\n"
   ]
  },
  {
   "cell_type": "code",
   "execution_count": 6,
   "metadata": {},
   "outputs": [],
   "source": [
    "# Miner4 mines b2, puts f2 and f3 in it\n",
    "b2 = nodes[4].mineBlock(5)\n",
    "for node in nodes:\n",
    "    node.deliver((b2, None))\n",
    "\n",
    "# Env supplies a tx with fee 100, miner5 takes it in a block\n",
    "env.unprocessedTxs.append(Transaction(5, 100, 1))\n",
    "env.nFruitsInWindow = 5\n",
    "\n",
    "b3 = nodes[5].mineBlock(6)\n",
    "for node in nodes:\n",
    "    node.deliver((b3, None))\n",
    "\n",
    "# Since k = 2 and we mined the 3rd block, rewards should have been distributed\n",
    "# We have (1+1) + (2+1) = 5 fruits in this window. +1 is the implicit fruit\n",
    "env.nFruitsInWindow = 5\n",
    "env.rewardFruitchain(5)"
   ]
  },
  {
   "cell_type": "code",
   "execution_count": 7,
   "metadata": {},
   "outputs": [
    {
     "name": "stdout",
     "output_type": "stream",
     "text": [
      "18.018\n",
      "21.582\n",
      "17.82\n",
      "17.82\n",
      "23.76\n",
      "1.0\n"
     ]
    }
   ],
   "source": [
    "for node in nodes:\n",
    "    print(node.totalFruitchainReward)"
   ]
  },
  {
   "cell_type": "code",
   "execution_count": null,
   "metadata": {},
   "outputs": [],
   "source": []
  }
 ],
 "metadata": {
  "kernelspec": {
   "display_name": "Python 3",
   "language": "python",
   "name": "python3"
  },
  "language_info": {
   "codemirror_mode": {
    "name": "ipython",
    "version": 3
   },
   "file_extension": ".py",
   "mimetype": "text/x-python",
   "name": "python",
   "nbconvert_exporter": "python",
   "pygments_lexer": "ipython3",
   "version": "3.5.2"
  }
 },
 "nbformat": 4,
 "nbformat_minor": 2
}
