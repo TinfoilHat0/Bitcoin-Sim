{
 "cells": [
  {
   "cell_type": "code",
   "execution_count": null,
   "metadata": {},
   "outputs": [],
   "source": [
    "import bisect\n",
    "import random\n",
    "from dataStructures import *\n",
    "from fruitchain import *\n",
    "import matplotlib.pyplot as plt"
   ]
  },
  {
   "cell_type": "code",
   "execution_count": null,
   "metadata": {},
   "outputs": [],
   "source": [
    "x = [0.00001,0.001,0.01,0.1,0.5,1,5]\n",
    "# create an index for each tick position\n",
    "xi = [i for i in range(0, len(x))]\n",
    "y = [0.945,0.885,0.893,0.9,0.996,1.25,1.19]\n",
    "plt.ylim(0.8,1.4)\n",
    "# plot the index for the x-values\n",
    "plt.plot(xi, y, marker='o', linestyle='--', color='r', label='Fairness Metric') \n",
    "plt.xlabel('x')\n",
    "plt.ylabel('y') \n",
    "\n",
    "plt.title('compare')\n",
    "plt.legend() \n",
    "plt.show()"
   ]
  },
  {
   "cell_type": "code",
   "execution_count": null,
   "metadata": {},
   "outputs": [],
   "source": []
  }
 ],
 "metadata": {
  "kernelspec": {
   "display_name": "Python 3",
   "language": "python",
   "name": "python3"
  },
  "language_info": {
   "codemirror_mode": {
    "name": "ipython",
    "version": 3
   },
   "file_extension": ".py",
   "mimetype": "text/x-python",
   "name": "python",
   "nbconvert_exporter": "python",
   "pygments_lexer": "ipython3",
   "version": "3.4.3"
  }
 },
 "nbformat": 4,
 "nbformat_minor": 2
}
