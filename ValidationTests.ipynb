{
 "cells": [
  {
   "cell_type": "code",
   "execution_count": 1,
   "metadata": {},
   "outputs": [],
   "source": [
    "from simulator import *\n",
    "import createPlots as cp\n",
    "import numpy as np\n",
    "import random\n",
    "import math"
   ]
  },
  {
   "cell_type": "code",
   "execution_count": 2,
   "metadata": {},
   "outputs": [],
   "source": [
    "# We fix number of nodes and parameters of fruitchain(c1,c2,c3,k) under all settings. \n",
    "n, k = 3, 16\n",
    "hashFracs = [1/n for i in range(n)]\n",
    "avgOver = 5 # Average each point over 5 runs"
   ]
  },
  {
   "cell_type": "code",
   "execution_count": 3,
   "metadata": {},
   "outputs": [
    {
     "name": "stdout",
     "output_type": "stream",
     "text": [
      "Simulation for r=21600 rounds has finished!\n",
      "Simulation 1 has finished!\n",
      "Simulation for r=21600 rounds has finished!\n",
      "Simulation 2 has finished!\n",
      "Simulation for r=21600 rounds has finished!\n",
      "Simulation 3 has finished!\n",
      "Simulation for r=21600 rounds has finished!\n",
      "Simulation 4 has finished!\n",
      "Simulation for r=21600 rounds has finished!\n",
      "Simulation 5 has finished!\n",
      "All simulations have finished!\n",
      "Writing results to file: sim_results/validationTests/fruitPerBlockTests/c0_1_\n",
      "Finished!\n"
     ]
    }
   ],
   "source": [
    "# 1. FruitPerBlock vs. c0\n",
    "ratios = [1, 20, 40, 60, 80, 100]\n",
    "pF = 1/5\n",
    "fileName = \"sim_results/validationTests/fruitPerBlockTests/\"\n",
    "for c0 in ratios[:1]:\n",
    "    p = pF/c0\n",
    "    r = ceil(1/p)*144*30 # on avg. 144 blocks per day\n",
    "    sim = Simulator(n, r, p, pF, hashFracs, k, avgOver)\n",
    "    sim.run(fileName + \"c0_\" + str(c0) + \"_\")"
   ]
  }
 ],
 "metadata": {
  "kernelspec": {
   "display_name": "Python 3",
   "language": "python",
   "name": "python3"
  },
  "language_info": {
   "codemirror_mode": {
    "name": "ipython",
    "version": 3
   },
   "file_extension": ".py",
   "mimetype": "text/x-python",
   "name": "python",
   "nbconvert_exporter": "python",
   "pygments_lexer": "ipython3",
   "version": "3.5.2"
  }
 },
 "nbformat": 4,
 "nbformat_minor": 2
}
