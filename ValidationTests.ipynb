{
 "cells": [
  {
   "cell_type": "code",
   "execution_count": 1,
   "metadata": {},
   "outputs": [],
   "source": [
    "from simulator import *\n",
    "import createPlots as cp\n",
    "import numpy as np\n",
    "import random\n",
    "import math"
   ]
  },
  {
   "cell_type": "code",
   "execution_count": 2,
   "metadata": {},
   "outputs": [],
   "source": [
    "# We fix number of nodes and parameters of fruitchain(c1,c2,c3,k) under all settings. \n",
    "n, k = 14, 16\n",
    "hashFracs = [1/n for i in range(n)]\n",
    "avgOver = 10 # Average each point over 5 runs\n",
    "c0Vals = [10/2, 10/4, 10/6, 10/8, 1]\n",
    "pF = 1"
   ]
  },
  {
   "cell_type": "code",
   "execution_count": 3,
   "metadata": {},
   "outputs": [
    {
     "name": "stdout",
     "output_type": "stream",
     "text": [
      "Simulation for r=21600 rounds has finished!\n",
      "Simulation 1 has finished!\n",
      "Simulation for r=21600 rounds has finished!\n",
      "Simulation 2 has finished!\n",
      "Simulation for r=21600 rounds has finished!\n",
      "Simulation 3 has finished!\n",
      "Simulation for r=21600 rounds has finished!\n",
      "Simulation 4 has finished!\n",
      "Simulation for r=21600 rounds has finished!\n",
      "Simulation 5 has finished!\n",
      "Simulation for r=21600 rounds has finished!\n",
      "Simulation 6 has finished!\n",
      "Simulation for r=21600 rounds has finished!\n",
      "Simulation 7 has finished!\n",
      "Simulation for r=21600 rounds has finished!\n",
      "Simulation 8 has finished!\n",
      "Simulation for r=21600 rounds has finished!\n",
      "Simulation 9 has finished!\n",
      "Simulation for r=21600 rounds has finished!\n",
      "Simulation 10 has finished!\n",
      "All simulations have finished!\n",
      "Writing results to file: sim_results/validationTests/c0_5.0_\n",
      "Finished!\n",
      "Simulation for r=12960 rounds has finished!\n",
      "Simulation 1 has finished!\n",
      "Simulation for r=12960 rounds has finished!\n",
      "Simulation 2 has finished!\n",
      "Simulation for r=12960 rounds has finished!\n",
      "Simulation 3 has finished!\n",
      "Simulation for r=12960 rounds has finished!\n",
      "Simulation 4 has finished!\n",
      "Simulation for r=12960 rounds has finished!\n",
      "Simulation 5 has finished!\n",
      "Simulation for r=12960 rounds has finished!\n",
      "Simulation 6 has finished!\n",
      "Simulation for r=12960 rounds has finished!\n",
      "Simulation 7 has finished!\n",
      "Simulation for r=12960 rounds has finished!\n",
      "Simulation 8 has finished!\n",
      "Simulation for r=12960 rounds has finished!\n",
      "Simulation 9 has finished!\n",
      "Simulation for r=12960 rounds has finished!\n",
      "Simulation 10 has finished!\n",
      "All simulations have finished!\n",
      "Writing results to file: sim_results/validationTests/c0_2.5_\n",
      "Finished!\n",
      "Simulation for r=8640 rounds has finished!\n",
      "Simulation 1 has finished!\n",
      "Simulation for r=8640 rounds has finished!\n",
      "Simulation 2 has finished!\n",
      "Simulation for r=8640 rounds has finished!\n",
      "Simulation 3 has finished!\n",
      "Simulation for r=8640 rounds has finished!\n",
      "Simulation 4 has finished!\n",
      "Simulation for r=8640 rounds has finished!\n",
      "Simulation 5 has finished!\n",
      "Simulation for r=8640 rounds has finished!\n",
      "Simulation 6 has finished!\n",
      "Simulation for r=8640 rounds has finished!\n",
      "Simulation 7 has finished!\n",
      "Simulation for r=8640 rounds has finished!\n",
      "Simulation 8 has finished!\n",
      "Simulation for r=8640 rounds has finished!\n",
      "Simulation 9 has finished!\n",
      "Simulation for r=8640 rounds has finished!\n",
      "Simulation 10 has finished!\n",
      "All simulations have finished!\n",
      "Writing results to file: sim_results/validationTests/c0_1.6666666666666667_\n",
      "Finished!\n",
      "Simulation for r=8640 rounds has finished!\n",
      "Simulation 1 has finished!\n",
      "Simulation for r=8640 rounds has finished!\n",
      "Simulation 2 has finished!\n",
      "Simulation for r=8640 rounds has finished!\n",
      "Simulation 3 has finished!\n",
      "Simulation for r=8640 rounds has finished!\n",
      "Simulation 4 has finished!\n",
      "Simulation for r=8640 rounds has finished!\n",
      "Simulation 5 has finished!\n",
      "Simulation for r=8640 rounds has finished!\n",
      "Simulation 6 has finished!\n",
      "Simulation for r=8640 rounds has finished!\n",
      "Simulation 7 has finished!\n",
      "Simulation for r=8640 rounds has finished!\n",
      "Simulation 8 has finished!\n",
      "Simulation for r=8640 rounds has finished!\n",
      "Simulation 9 has finished!\n",
      "Simulation for r=8640 rounds has finished!\n",
      "Simulation 10 has finished!\n",
      "All simulations have finished!\n",
      "Writing results to file: sim_results/validationTests/c0_1.25_\n",
      "Finished!\n",
      "Simulation for r=4320 rounds has finished!\n",
      "Simulation 1 has finished!\n",
      "Simulation for r=4320 rounds has finished!\n",
      "Simulation 2 has finished!\n",
      "Simulation for r=4320 rounds has finished!\n",
      "Simulation 3 has finished!\n",
      "Simulation for r=4320 rounds has finished!\n",
      "Simulation 4 has finished!\n",
      "Simulation for r=4320 rounds has finished!\n",
      "Simulation 5 has finished!\n",
      "Simulation for r=4320 rounds has finished!\n",
      "Simulation 6 has finished!\n",
      "Simulation for r=4320 rounds has finished!\n",
      "Simulation 7 has finished!\n",
      "Simulation for r=4320 rounds has finished!\n",
      "Simulation 8 has finished!\n",
      "Simulation for r=4320 rounds has finished!\n",
      "Simulation 9 has finished!\n",
      "Simulation for r=4320 rounds has finished!\n",
      "Simulation 10 has finished!\n",
      "All simulations have finished!\n",
      "Writing results to file: sim_results/validationTests/c0_1_\n",
      "Finished!\n"
     ]
    }
   ],
   "source": [
    "# All validation lemmas\n",
    "days = 30\n",
    "fileName = \"sim_results/validationTests/\"\n",
    "for c0 in c0Vals:\n",
    "    p = pF/c0\n",
    "    r = ceil(1/p)*144*days# on avg. 144 blocks per day\n",
    "    sim = Simulator(n, r, p, pF, hashFracs, k, avgOver)\n",
    "    sim.run(fileName + \"c0_\" + str(c0) + \"_\")"
   ]
  },
  {
   "cell_type": "code",
   "execution_count": 4,
   "metadata": {},
   "outputs": [
    {
     "name": "stdout",
     "output_type": "stream",
     "text": [
      "[0.2, 0.4, 0.6, 0.8, 1.0]\n"
     ]
    }
   ],
   "source": [
    "cp.plotValidationData(c0Vals)"
   ]
  },
  {
   "cell_type": "code",
   "execution_count": null,
   "metadata": {},
   "outputs": [],
   "source": []
  }
 ],
 "metadata": {
  "kernelspec": {
   "display_name": "Python 3",
   "language": "python",
   "name": "python3"
  },
  "language_info": {
   "codemirror_mode": {
    "name": "ipython",
    "version": 3
   },
   "file_extension": ".py",
   "mimetype": "text/x-python",
   "name": "python",
   "nbconvert_exporter": "python",
   "pygments_lexer": "ipython3",
   "version": "3.4.3"
  }
 },
 "nbformat": 4,
 "nbformat_minor": 2
}
