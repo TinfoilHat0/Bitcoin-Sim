{
 "cells": [
  {
   "cell_type": "code",
   "execution_count": 1,
   "metadata": {},
   "outputs": [],
   "source": [
    "from simulator import *\n",
    "import createPlots as cp\n",
    "import numpy as np\n",
    "import random"
   ]
  },
  {
   "cell_type": "code",
   "execution_count": 2,
   "metadata": {},
   "outputs": [],
   "source": [
    "# 1. Parameters for Metric vs. Window Length\n",
    "p, pF = 1/100, 1/10\n",
    "r =  (10**5)\n",
    "avgOver = 5\n",
    "n = 4"
   ]
  },
  {
   "cell_type": "code",
   "execution_count": 3,
   "metadata": {},
   "outputs": [],
   "source": [
    "setting1 = [1/n for i in range(n)] # All same\n",
    "setting2 = [0.4, 0.2, 0.2, 0.2]\n",
    "setting3 = [0.7, 0.1, 0.1, 0.1]\n",
    "setting4 = [0.8, 0.2/3, 0.2/3, 0.2/3]\n",
    "hashSettings = [setting1, setting2, setting3, setting4]\n",
    "fileName = \"sim_results/metricTests/hashTests/\""
   ]
  },
  {
   "cell_type": "code",
   "execution_count": 4,
   "metadata": {},
   "outputs": [
    {
     "name": "stdout",
     "output_type": "stream",
     "text": [
      "Round:50000 has finished.\n",
      "Round:100000 has finished.\n",
      "Simulation for r=100000 rounds has finished!\n",
      "Simulation 1 has finished!\n",
      "Round:50000 has finished.\n",
      "Round:100000 has finished.\n",
      "Simulation for r=100000 rounds has finished!\n",
      "Simulation 2 has finished!\n",
      "Round:50000 has finished.\n",
      "Round:100000 has finished.\n",
      "Simulation for r=100000 rounds has finished!\n",
      "Simulation 3 has finished!\n",
      "Round:50000 has finished.\n",
      "Round:100000 has finished.\n",
      "Simulation for r=100000 rounds has finished!\n",
      "Simulation 4 has finished!\n",
      "Round:50000 has finished.\n",
      "Round:100000 has finished.\n",
      "Simulation for r=100000 rounds has finished!\n",
      "Simulation 5 has finished!\n",
      "All simulations have finished!\n",
      "Writing results to file: sim_results/metricTests/hashTests/hashSetting_1_\n",
      "Finished!\n",
      "Round:50000 has finished.\n",
      "Round:100000 has finished.\n",
      "Simulation for r=100000 rounds has finished!\n",
      "Simulation 1 has finished!\n",
      "Round:50000 has finished.\n",
      "Round:100000 has finished.\n",
      "Simulation for r=100000 rounds has finished!\n",
      "Simulation 2 has finished!\n",
      "Round:50000 has finished.\n",
      "Round:100000 has finished.\n",
      "Simulation for r=100000 rounds has finished!\n",
      "Simulation 3 has finished!\n",
      "Round:50000 has finished.\n",
      "Round:100000 has finished.\n",
      "Simulation for r=100000 rounds has finished!\n",
      "Simulation 4 has finished!\n",
      "Round:50000 has finished.\n",
      "Round:100000 has finished.\n",
      "Simulation for r=100000 rounds has finished!\n",
      "Simulation 5 has finished!\n",
      "All simulations have finished!\n",
      "Writing results to file: sim_results/metricTests/hashTests/hashSetting_2_\n",
      "Finished!\n",
      "Round:50000 has finished.\n",
      "Round:100000 has finished.\n",
      "Simulation for r=100000 rounds has finished!\n",
      "Simulation 1 has finished!\n",
      "Round:50000 has finished.\n",
      "Round:100000 has finished.\n",
      "Simulation for r=100000 rounds has finished!\n",
      "Simulation 2 has finished!\n",
      "Round:50000 has finished.\n",
      "Round:100000 has finished.\n",
      "Simulation for r=100000 rounds has finished!\n",
      "Simulation 3 has finished!\n",
      "Round:50000 has finished.\n",
      "Round:100000 has finished.\n",
      "Simulation for r=100000 rounds has finished!\n",
      "Simulation 4 has finished!\n",
      "Round:50000 has finished.\n",
      "Round:100000 has finished.\n",
      "Simulation for r=100000 rounds has finished!\n",
      "Simulation 5 has finished!\n",
      "All simulations have finished!\n",
      "Writing results to file: sim_results/metricTests/hashTests/hashSetting_3_\n",
      "Finished!\n",
      "Round:50000 has finished.\n",
      "Round:100000 has finished.\n",
      "Simulation for r=100000 rounds has finished!\n",
      "Simulation 1 has finished!\n",
      "Round:50000 has finished.\n",
      "Round:100000 has finished.\n",
      "Simulation for r=100000 rounds has finished!\n",
      "Simulation 2 has finished!\n",
      "Round:50000 has finished.\n",
      "Round:100000 has finished.\n",
      "Simulation for r=100000 rounds has finished!\n",
      "Simulation 3 has finished!\n",
      "Round:50000 has finished.\n",
      "Round:100000 has finished.\n",
      "Simulation for r=100000 rounds has finished!\n",
      "Simulation 4 has finished!\n",
      "Round:50000 has finished.\n",
      "Round:100000 has finished.\n",
      "Simulation for r=100000 rounds has finished!\n",
      "Simulation 5 has finished!\n",
      "All simulations have finished!\n",
      "Writing results to file: sim_results/metricTests/hashTests/hashSetting_4_\n",
      "Finished!\n"
     ]
    }
   ],
   "source": [
    "for i in range(len(hashSettings)): \n",
    "    sim = Simulator(n, p, pF, r, hashSettings[i], avgOver)\n",
    "    sim.run(fileName + \"hashSetting_\" + str(i+1) + \"_\")"
   ]
  },
  {
   "cell_type": "code",
   "execution_count": 7,
   "metadata": {},
   "outputs": [],
   "source": [
    "for setting "
   ]
  },
  {
   "cell_type": "code",
   "execution_count": null,
   "metadata": {},
   "outputs": [],
   "source": []
  }
 ],
 "metadata": {
  "kernelspec": {
   "display_name": "Python 3",
   "language": "python",
   "name": "python3"
  },
  "language_info": {
   "codemirror_mode": {
    "name": "ipython",
    "version": 3
   },
   "file_extension": ".py",
   "mimetype": "text/x-python",
   "name": "python",
   "nbconvert_exporter": "python",
   "pygments_lexer": "ipython3",
   "version": "3.5.2"
  }
 },
 "nbformat": 4,
 "nbformat_minor": 2
}
